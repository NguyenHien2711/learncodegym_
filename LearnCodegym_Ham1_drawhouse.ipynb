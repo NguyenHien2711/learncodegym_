{
 "cells": [
  {
   "cell_type": "code",
   "execution_count": 1,
   "id": "4f3abde7",
   "metadata": {},
   "outputs": [],
   "source": [
    "import turtle\n",
    "t=turtle.Turtle()\n",
    "t.speed(10)\n",
    "def goto(x,y):\n",
    "    t.penup()\n",
    "    t.goto(x,y)\n",
    "    t.pendown()\n",
    "def vekhoi(a,b,color):\n",
    "    t.color('black')\n",
    "    t.fillcolor(color)\n",
    "    t.begin_fill()\n",
    "    for i in range(2):\n",
    "        t.pensize(2)\n",
    "        t.forward(a)\n",
    "        t.left(90)\n",
    "        t.forward(b)\n",
    "        t.left(90)\n",
    "    t.end_fill()\n",
    "goto(0,-200)\n",
    "vekhoi(100,200,'lightblue')\n",
    "goto(25,-200)\n",
    "vekhoi(50,100,'navy')\n",
    "goto(-200,-200)\n",
    "vekhoi(200,400,'lightblue')\n",
    "for i in range(4):\n",
    "    goto(-200,-200+100*i)\n",
    "    t.forward(200)\n",
    "    goto(-175,-175+100*i)\n",
    "    vekhoi(50,50,'white')\n",
    "    goto(-75,-175+100*i)\n",
    "    vekhoi(50,50,'white')\n",
    "goto(-100,200)\n",
    "t.right(90)\n",
    "t.forward(400)"
   ]
  },
  {
   "cell_type": "code",
   "execution_count": null,
   "id": "787590ed",
   "metadata": {},
   "outputs": [],
   "source": []
  },
  {
   "cell_type": "code",
   "execution_count": null,
   "id": "7034a241",
   "metadata": {},
   "outputs": [],
   "source": []
  }
 ],
 "metadata": {
  "kernelspec": {
   "display_name": "Python 3 (ipykernel)",
   "language": "python",
   "name": "python3"
  },
  "language_info": {
   "codemirror_mode": {
    "name": "ipython",
    "version": 3
   },
   "file_extension": ".py",
   "mimetype": "text/x-python",
   "name": "python",
   "nbconvert_exporter": "python",
   "pygments_lexer": "ipython3",
   "version": "3.9.12"
  }
 },
 "nbformat": 4,
 "nbformat_minor": 5
}
